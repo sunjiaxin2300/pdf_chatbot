{
 "cells": [
  {
   "cell_type": "code",
   "execution_count": 1,
   "metadata": {},
   "outputs": [
    {
     "data": {
      "text/plain": [
       "True"
      ]
     },
     "execution_count": 1,
     "metadata": {},
     "output_type": "execute_result"
    }
   ],
   "source": [
    "from dotenv import load_dotenv\n",
    "from langchain_openai import ChatOpenAI\n",
    "from langchain_openai import OpenAIEmbeddings\n",
    "from langchain_community.document_loaders import PyMuPDFLoader\n",
    "from langchain.text_splitter import RecursiveCharacterTextSplitter\n",
    "from langchain_community.vectorstores import FAISS\n",
    "from langchain.chains import ConversationalRetrievalChain, LLMChain, StuffDocumentsChain\n",
    "from langchain.memory import ConversationBufferMemory\n",
    "from chainlit.input_widget import Slider, Select, TextInput\n",
    "from langchain.prompts import PromptTemplate\n",
    "from rank_bm25 import BM25Okapi\n",
    "from langchain.schema import BaseRetriever, Document\n",
    "from typing import List\n",
    "import chainlit as cl\n",
    "\n",
    "load_dotenv()"
   ]
  },
  {
   "cell_type": "code",
   "execution_count": 2,
   "metadata": {},
   "outputs": [],
   "source": [
    "file_path = f'C:/Users/JiaxinSun/OneDrive/Documents/MyLLM/report.pdf'\n",
    "\n",
    "docs = PyMuPDFLoader(file_path).load()\n",
    "\n",
    "text_splitter = RecursiveCharacterTextSplitter(\n",
    "    chunk_size=800, chunk_overlap=100\n",
    ")\n",
    "split_docs = text_splitter.split_documents(docs)"
   ]
  },
  {
   "cell_type": "code",
   "execution_count": 3,
   "metadata": {},
   "outputs": [
    {
     "name": "stdout",
     "output_type": "stream",
     "text": [
      "2024-10-09 10:16:02 - HTTP Request: POST https://api.bianxieai.com/v1/embeddings \"HTTP/1.1 200 OK\"\n",
      "2024-10-09 10:16:03 - Loading faiss with AVX2 support.\n",
      "2024-10-09 10:16:03 - Successfully loaded faiss with AVX2 support.\n"
     ]
    }
   ],
   "source": [
    "# 创建嵌入模型\n",
    "embeddings = OpenAIEmbeddings()  # 创建嵌入模型\n",
    "\n",
    "# 创建文档向量存储，指定本地存储路径\n",
    "docsearch = await cl.make_async(FAISS.from_documents)(\n",
    "    split_docs, embeddings\n",
    ")"
   ]
  },
  {
   "cell_type": "code",
   "execution_count": 4,
   "metadata": {},
   "outputs": [],
   "source": [
    "docsearch.save_local(folder_path='./vector_store', index_name='report.pdf')"
   ]
  },
  {
   "cell_type": "code",
   "execution_count": 5,
   "metadata": {},
   "outputs": [
    {
     "name": "stdout",
     "output_type": "stream",
     "text": [
      "FAISS索引加载成功！\n"
     ]
    }
   ],
   "source": [
    "try:\n",
    "    docsearch = FAISS.load_local(\n",
    "        folder_path = './vector_store',\n",
    "        embeddings = embeddings,\n",
    "        index_name = 'report.pdf',\n",
    "        allow_dangerous_deserialization = True\n",
    "    )\n",
    "    # 如果加载成功，输出成功消息\n",
    "    print(\"FAISS索引加载成功！\")\n",
    "    \n",
    "except Exception as e:\n",
    "    # 如果加载失败\n",
    "    print(f\"FAISS索引加载失败: {e}\")\n",
    "    docsearch = await cl.make_async(FAISS.from_documents)(\n",
    "        split_docs, embeddings\n",
    "    )"
   ]
  },
  {
   "cell_type": "code",
   "execution_count": 2,
   "metadata": {},
   "outputs": [
    {
     "name": "stdout",
     "output_type": "stream",
     "text": [
      "2024-10-08 19:22:36 - Anonymized telemetry enabled. See                     https://docs.trychroma.com/telemetry for more information.\n"
     ]
    }
   ],
   "source": [
    "client = chromadb.PersistentClient(path='./vector_store')\n",
    "collections = client.list_collections()  # 使用实例调用方法"
   ]
  },
  {
   "cell_type": "code",
   "execution_count": 3,
   "metadata": {},
   "outputs": [
    {
     "data": {
      "text/plain": [
       "[Collection(id=77ed1261-388e-45fa-aacb-56290c9a32c0, name=report.pdf)]"
      ]
     },
     "execution_count": 3,
     "metadata": {},
     "output_type": "execute_result"
    }
   ],
   "source": [
    "collections"
   ]
  },
  {
   "cell_type": "code",
   "execution_count": 9,
   "metadata": {},
   "outputs": [],
   "source": [
    "collection_name = 'report.pdf'\n",
    "docsearch = await cl.make_async(client.get_collection)(collection_name)  # 使用实例调用方法"
   ]
  },
  {
   "cell_type": "code",
   "execution_count": 10,
   "metadata": {},
   "outputs": [
    {
     "name": "stdout",
     "output_type": "stream",
     "text": [
      "2024-10-08 19:32:28 - HTTP Request: POST https://api.bianxieai.com/v1/embeddings \"HTTP/1.1 200 OK\"\n"
     ]
    }
   ],
   "source": [
    "embeddings = OpenAIEmbeddings()\n",
    "query = '最近的市场行情'\n",
    "query_embedding = embeddings.embed_query(query)"
   ]
  },
  {
   "cell_type": "code",
   "execution_count": 17,
   "metadata": {},
   "outputs": [],
   "source": [
    "doc_embeddings = docsearch.query(\n",
    "    query_embeddings=query_embedding,\n",
    "    n_results=5,\n",
    ")"
   ]
  },
  {
   "cell_type": "code",
   "execution_count": 14,
   "metadata": {},
   "outputs": [],
   "source": [
    "corpus = [doc.page_content for doc in split_docs]\n",
    "bm25 = BM25Okapi(corpus)"
   ]
  },
  {
   "cell_type": "code",
   "execution_count": 15,
   "metadata": {},
   "outputs": [],
   "source": [
    "bm25_scores = bm25.get_scores(query.split())\n",
    "ranked_docs = sorted(zip(docs, bm25_scores), key=lambda x: x[1], reverse=True)\n"
   ]
  },
  {
   "cell_type": "code",
   "execution_count": 16,
   "metadata": {},
   "outputs": [
    {
     "data": {
      "text/plain": [
       "[Document(metadata={'source': 'C:/Users/JiaxinSun/OneDrive/Documents/MyLLM/report.pdf', 'file_path': 'C:/Users/JiaxinSun/OneDrive/Documents/MyLLM/report.pdf', 'page': 0, 'total_pages': 15, 'format': 'PDF 1.7', 'title': '私行全球资产每周聚焦', 'author': '平安私人银行投研团队', 'subject': '', 'keywords': '', 'creator': 'Microsoft® PowerPoint® 2019', 'producer': 'Microsoft® PowerPoint® 2019', 'creationDate': \"D:20240527091139+08'00'\", 'modDate': \"D:20240527091139+08'00'\", 'trapped': ''}, page_content='平安银行私行财富部\\n2024年5月24日\\n经济震荡期，政策观察期\\n——2024年6月大类资产配置展望\\n'),\n",
       " Document(metadata={'source': 'C:/Users/JiaxinSun/OneDrive/Documents/MyLLM/report.pdf', 'file_path': 'C:/Users/JiaxinSun/OneDrive/Documents/MyLLM/report.pdf', 'page': 1, 'total_pages': 15, 'format': 'PDF 1.7', 'title': '私行全球资产每周聚焦', 'author': '平安私人银行投研团队', 'subject': '', 'keywords': '', 'creator': 'Microsoft® PowerPoint® 2019', 'producer': 'Microsoft® PowerPoint® 2019', 'creationDate': \"D:20240527091139+08'00'\", 'modDate': \"D:20240527091139+08'00'\", 'trapped': ''}, page_content='本期观点（2024年6月）\\n◼市场脉络：政策刺激渐成现实，上半年预计力度仍较大。过往数周市场对于中国经济刺激以及美国降息进入观察期。房\\n地产强力刺激举措终于落地，美国通胀回落重新带动降息预期回归。当前境内外政策短期内均指向利好，市场风险偏好\\n的抬升仍有望延续。\\n◼境内宏观：缓慢修复底色不改，短期“稳地产”加码。多重因素综合导致4月社融罕见负增，宽松仍是大方向。4月经济\\n结构上呈现生产强，但内需偏弱特征，核心拖累仍在地产。短期内政策力度明显向“稳地产”偏转，预计在三中全会这\\n一关键会议召开前，地产维稳力度不减。关注后续地方政府/国企收储模式的更多细节及落地情况。\\n◼境内股票：注意结构和安全边际，行情的持续性要看落地效果。房地产行业重磅政策出台，对于地产链及宏观经济均有\\n一定的提振作用。同时深化改革政策有望与近期提振经济的政策共振，A股行情延续的概率大增。行业配置方面，新质\\n生产力值得关注，高股息仍有吸引力，大消费板块业绩修复，因此A股行业配置宜科技、国企红利与大消费三管齐下。\\n◼境内固收：大幅调整风险可控，仍以区间波动思路应对。特别国债安排落地，整体发行节奏平稳。地产政策加码但实效\\n待验证，市场信心有实质扭转前，债市出现大幅调整的风险可控，建议短期仍以区间波动思路应对。当前2.58%左右的\\n30年国债利率水平对应的短期赔率较为有限，但若有进一步调整，可考虑逢高配置。\\n◼境外宏观：降息预期是关键，美国消费及通胀走低是利好。通胀回落，但路途预估仍将曲折。欧元区经济的持续回升在\\n于全球制造业走强。\\n◼美股：通胀数据推升降息预期，市场上调盈利预期，看好美股全年表现。\\n◼港股：地产政策接连出台，港股明显受益。\\n◼海外债：调整或已结束，继续适度加大配置力度。经济通胀回调，美债调整或已结束，年内美债无需担忧，调整结束后\\n就加配。\\n'),\n",
       " Document(metadata={'source': 'C:/Users/JiaxinSun/OneDrive/Documents/MyLLM/report.pdf', 'file_path': 'C:/Users/JiaxinSun/OneDrive/Documents/MyLLM/report.pdf', 'page': 2, 'total_pages': 15, 'format': 'PDF 1.7', 'title': '私行全球资产每周聚焦', 'author': '平安私人银行投研团队', 'subject': '', 'keywords': '', 'creator': 'Microsoft® PowerPoint® 2019', 'producer': 'Microsoft® PowerPoint® 2019', 'creationDate': \"D:20240527091139+08'00'\", 'modDate': \"D:20240527091139+08'00'\", 'trapped': ''}, page_content='2\\n2\\n数据来源：Wind，平安银行投顾中心投研团队。注：月度数据为当月同比（%），投资项为累计同比（%）\\n境内宏观：缓慢修复底色不改，短期“稳地产”加码\\n市场回顾\\n境内资产\\n境外资产\\n另类资产\\n配置建议\\n◼\\n4月经济指标总体平稳增长，结构上呈现生产强，但内需偏弱特征。生产端，4月工业增加值同比增速6.7%，较前值明显抬升，主要受到假期错\\n月和出口反弹带动；服务业生产指数同比回落1.5个百分点至3.5%。需求端，社零增速延续回落，有假期错月的拖累，但亦不可否认居民消费\\n能力和消费信心仍待进一步提升。投资端增速有所回落，核心拖累仍在地产。1-4月制造业投资累计同比9.7%，依旧是投资主要的拉动力；地\\n方财政融资偏缓令基建投资增速逐步放缓，但中央财政仍将持续对冲其放缓幅度；地产投资降幅继续扩大，4月地产销售、房价仍在调整，最新\\n政治局会议后地产政策明显加速。\\n◼\\n周五央行连发三文，下调买房首付比例、取消房贷利率政策下限；全国切实做好保交房工作视频会议召开，要求扎实推进保交房、消化存量商\\n品房等重点工作；央行表示将设立3000亿保障性住房再贷款。短期内政策力度明显向“稳地产”偏转，预计在三中全会这一关键会议召开前，\\n地产维稳力度不减。关注后续地方政府/国企收储模式的更多细节及落地情况。\\n较前值（pct)\\n2024/04\\n2024/03\\n2024/02\\n2023/12\\n2023/11\\n2023/10\\n2023/09\\n2023/08 2023/07 2023/06\\n2023/05\\n工业增加值\\n2.2\\n6.7\\n4.5\\n7.0\\n6.8\\n6.6\\n4.6\\n4.5\\n4.5\\n3.7\\n4.4\\n3.5\\n服务业生产指数\\n-1.5\\n3.5\\n5.0\\n5.8\\n8.5\\n9.3\\n7.7\\n6.9\\n6.8\\n5.7\\n6.8\\n11.7\\n固定资产投资\\n-0.3\\n4.2\\n4.5\\n4.2\\n3.0\\n2.9\\n2.9\\n3.1\\n3.2\\n3.4\\n3.8\\n4.0\\n制造业\\n-0.2\\n9.7\\n9.9\\n9.4\\n6.5\\n6.3\\n6.2\\n6.2\\n5.9\\n5.7\\n6.0\\n6.0\\n房地产\\n-0.3\\n-9.8\\n-9.5\\n-9.0\\n-9.6\\n-9.4\\n-9.3\\n-9.1\\n-8.8\\n-8.5\\n-7.9\\n-7.2\\n基建\\n-1.0\\n7.8\\n8.8\\n9.0\\n8.2\\n8.0\\n8.3\\n8.6\\n9.0\\n9.4\\n10.2\\n9.5\\n社会消费品零售\\n-0.8\\n2.3\\n3.1\\n5.5\\n7.4\\n10.1\\n7.6\\n5.5\\n4.6\\n2.5\\n3.1\\n12.7\\n商品零售\\n-0.7\\n2.0\\n2.7\\n4.6\\n4.8\\n8.0\\n6.5\\n4.6\\n3.7\\n1.0\\n1.7\\n10.5\\n除汽车外消费品\\n-0.7\\n3.2\\n3.9\\n5.2\\n7.9\\n9.6\\n7.2\\n5.9\\n5.1\\n3.0\\n3.7\\n11.5\\n餐饮收入\\n-2.5\\n4.4\\n6.9\\n12.5\\n30.0\\n25.8\\n17.1\\n13.8\\n12.4\\n15.8\\n16.1\\n35.1\\n出口金额\\n9.0\\n1.5\\n-7.5\\n7.1\\n2.3\\n0.5\\n-6.6\\n-6.8\\n-8.5\\n-14.2\\n-12.3\\n-7.4\\n进口金额\\n10.3\\n8.4\\n-1.9\\n3.5\\n0.2\\n-0.6\\n3.0\\n-6.3\\n-7.2\\n-12.1\\n-6.9\\n-5.2\\n（当月同比，%）\\n生产\\n需求\\n'),\n",
       " Document(metadata={'source': 'C:/Users/JiaxinSun/OneDrive/Documents/MyLLM/report.pdf', 'file_path': 'C:/Users/JiaxinSun/OneDrive/Documents/MyLLM/report.pdf', 'page': 3, 'total_pages': 15, 'format': 'PDF 1.7', 'title': '私行全球资产每周聚焦', 'author': '平安私人银行投研团队', 'subject': '', 'keywords': '', 'creator': 'Microsoft® PowerPoint® 2019', 'producer': 'Microsoft® PowerPoint® 2019', 'creationDate': \"D:20240527091139+08'00'\", 'modDate': \"D:20240527091139+08'00'\", 'trapped': ''}, page_content='3\\n3\\n数据来源：Wind，平安银行投顾中心投研团队\\n境内宏观：社融罕见负增，宽松仍是大方向\\n市场回顾\\n境内资产\\n境外资产\\n另类资产\\n配置建议\\n◼\\n4月社融新增-1987亿元，自2005年以来首次负增长，社融存量同比增速从前值8.7%大幅下滑至8.3%；新增人民币贷款7300亿元，较去年同\\n期7188亿元微增，但从结构上看，居民短贷和中长贷、企业短贷等多个指标同比均少增；货币数据方面M1同比负增，M2增速大幅回落。金融\\n数据出现全口径超预期恶化。本次数据是多重因素综合导致的结果。1、数据回落有季节性因素。2、数据体现了当前经济内需偏弱、动能不强\\n的问题尚未得到实质性缓解。3、国债到期量较大但政府债券发行节奏偏慢对社融形成拖累。3、手工补息被禁止以及类活期的协定存款整改使\\n得M1增速明显下行。4、根据《金融时报》文章，一季度金融业增加值核算方式调整可能“下拉扰动货币信贷总量”，金融数据“挤水分”这\\n一技术性因素或构成较大扰动。\\n◼\\n后续而言，内需仍待修复背景下，政策宽松仍是大方向，尤其4月地产继续调整，近期地产优化政策不断出台，有望助力地产行业继而融资需求\\n逐步企稳。但也注意到，“高质量发展”导向之下，经济增长和信贷增长之间的关系或将逐步趋于弱化，货币信贷也将从外延式扩张逐步转向\\n内涵式发展，短期的数据下滑阵痛虽不可避免，但资金使用效率和金融支持质效将得到提高。\\n-6,000\\n-4,000\\n-2,000\\n0\\n2,000\\n4,000\\n6,000\\n8,000\\n10,000\\n居民短贷\\n居民中长贷\\n企业短贷\\n企业中长贷\\n票据融资\\n亿元\\n信贷多个指标同时负增\\n2023-04\\n2024-04\\n-1.0\\n0.0\\n1.0\\n2.0\\n3.0\\n4.0\\n5.0\\n6.0\\n7.0\\n1月\\n2月\\n3月\\n4月\\n5月\\n6月\\n7月\\n8月\\n9月\\n10月\\n11月\\n12月\\n万亿\\n社融超季节性下行\\n2023年\\n2022年\\n2021年\\n2020年\\n2019年\\n'),\n",
       " Document(metadata={'source': 'C:/Users/JiaxinSun/OneDrive/Documents/MyLLM/report.pdf', 'file_path': 'C:/Users/JiaxinSun/OneDrive/Documents/MyLLM/report.pdf', 'page': 4, 'total_pages': 15, 'format': 'PDF 1.7', 'title': '私行全球资产每周聚焦', 'author': '平安私人银行投研团队', 'subject': '', 'keywords': '', 'creator': 'Microsoft® PowerPoint® 2019', 'producer': 'Microsoft® PowerPoint® 2019', 'creationDate': \"D:20240527091139+08'00'\", 'modDate': \"D:20240527091139+08'00'\", 'trapped': ''}, page_content='4\\n数据来源：Wind，平安银行投顾中心投研团队，右图数据截至2024/5/24。\\n境内宏观：广义财政支出有待加快\\n市场回顾\\n境内资产\\n境外资产\\n另类资产\\n配置建议\\n◼\\n1-4月，全国一般公共预算收入同比下降2.7%，扣除特殊因素影响后，可比增长2%左右（前值2.2%）；一般公共预算支出同比增长3.5%（前\\n值2.9% 。同期，政府性基金预算收入同比增速为-7.7%（前值-4.0%）；政府性基金预算支出同比增速为-20.5%（前值-15.5%）。\\n◼\\n一般公共预算收入端较为平稳，但支出力度较往年更强，狭义财政持续积极发力。1-4月地方一般公共预算支出同比增长2.6%，较前值1.9%明\\n显提升，体现了中央转移支付陆续到位对地方财政支出的支撑作用。结构上看，4月科学技术和基建的节能环保、交通运输领域支出增速较上月\\n有较大提升。政府性基金收支降幅扩大，受到房地产市场表现偏弱及专项债发行节奏较慢的拖累，也使得广义财政支出总体偏慢。\\n◼\\n后续来看，超长期特别国债已自5月开始发行，4月底政治局会议提出加快专项债发行使用进度，上周发改委亦表示，将加快地方政府专项债券\\n发行使用进度，新增专项债发行预计将逐步提速。新一轮稳地产组合拳有望在一定程度上对冲地产销售、土地出让收入下滑趋势。在狭义财政\\n持续发力之后，广义财政支出或将接力对稳增长形成新的支撑。\\n0\\n20\\n40\\n60\\n80\\n100\\n120\\n1月\\n2月\\n3月\\n4月\\n5月\\n6月\\n7月\\n8月\\n9月\\n10月\\n11月\\n12月\\n%\\n今年来新增专项债发行进度较慢\\n2024年\\n2023年\\n2022年\\n2021年\\n2020年\\n2019年\\n-70\\n-50\\n-30\\n-10\\n10\\n30\\n50\\n2018/06\\n2018/09\\n2018/12\\n2019/03\\n2019/06\\n2019/09\\n2019/12\\n2020/03\\n2020/06\\n2020/09\\n2020/12\\n2021/03\\n2021/06\\n2021/09\\n2021/12\\n2022/03\\n2022/06\\n2022/09\\n2022/12\\n2023/03\\n2023/06\\n2023/09\\n2023/12\\n2024/03\\n%\\n土地收入走弱拖累地方政府性基金收入\\n全国政府性基金收入:累计同比\\n本年土地成交价款:累计同比\\n100大中城市成交土地总价:累计同比\\n')]"
      ]
     },
     "execution_count": 16,
     "metadata": {},
     "output_type": "execute_result"
    }
   ],
   "source": [
    "[doc for doc, _ in ranked_docs[:5]]"
   ]
  }
 ],
 "metadata": {
  "kernelspec": {
   "display_name": "Python 3",
   "language": "python",
   "name": "python3"
  },
  "language_info": {
   "codemirror_mode": {
    "name": "ipython",
    "version": 3
   },
   "file_extension": ".py",
   "mimetype": "text/x-python",
   "name": "python",
   "nbconvert_exporter": "python",
   "pygments_lexer": "ipython3",
   "version": "3.11.7"
  }
 },
 "nbformat": 4,
 "nbformat_minor": 2
}
